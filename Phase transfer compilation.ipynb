{
 "cells": [
  {
   "cell_type": "code",
   "execution_count": 14,
   "metadata": {},
   "outputs": [],
   "source": [
    "from ipywidgets import interact, interactive, fixed, interact_manual\n",
    "from ssipscore.PDB_preprocess import PDB_preprocess \n",
    "from ssipscore.scoring_traj_hg import ScoringTraj\n",
    "from ssipscore.getScoring import Scoring\n",
    "from ssipscore.create_jmol_vis import create_jmol_vis\n",
    "from ssipscore.create_jmol_vis import create_ip_vis\n",
    "from ssipscore.get_desolvation import get_desolvated_AIPs\n",
    "from ssipscore.get_desolvation import get_free_energy_of_solvation\n",
    "from ssipscore.get_desolvation import get_PrimInterAipDict\n",
    "import matplotlib.pyplot as plt\n",
    "from time import time\n",
    "import mdtraj as md\n",
    "import pandas as pd\n",
    "import numpy as np\n",
    "import pickle\n",
    "import os"
   ]
  },
  {
   "cell_type": "code",
   "execution_count": null,
   "metadata": {},
   "outputs": [],
   "source": [
    "def excl_DMC(self):\n",
    "    \"\"\"exclude the hydrogen bond that is being cancelled out in the DMC\n",
    "        but we need it here to account for MEPS correctly\"\"\"\n",
    "    solv_H = get_free_energy_of_solvation(self.H_bond_df.L_value[0], \"chloroform\") + \\\n",
    "                        get_free_energy_of_solvation(self.H_bond_df.R_value[0], \"chloroform\")\n",
    "    return solv_H"
   ]
  },
  {
   "cell_type": "code",
   "execution_count": 15,
   "metadata": {},
   "outputs": [],
   "source": [
    "water_alpha=[-0.63800003, -0.519020007, -7.95083649E-02, -8.12364268E-01, 3.524312E-01, -7.050761775E-02, 7.61994779E-03, -4.2963367E-04, 9.92816837E-06],\n",
    "water_beta=[-0.701048385, 1.26502296E-02, -3.731657205E-01, 4.08016045E-02, 1.72853731E-02, 2.092557689E-03, 1.25465594E-04, 3.79343575E-06, 4.6163579E-08],\n",
    "hexadecane_alpha=[-2.32045027, 1.89024615E-14, -2.32155075E-14, 1.36380230E-14, -4.43948954E-015, 8.406146166E-016, -9.203165934E-17, 5.39271494E-18, -1.36621071E-19],\n",
    "hexadecane_beta=[-2.31921832, 0.29382657, -9.8692988E-03, 2.59832152E-04, 7.9892149E-05, 6.69220165E-06, 3.1605919E-07, 8.2558549E-09, 9.18654608E-11],\n",
    "chloroform_alpha=[-1.220126,-1.662607E-01,-9.94286E-03,-4.672309E-04,-2.678255E-06,1.475957E-05,-2.411077E-06,1.74012E-07,-4.822481E-09]\n",
    "chloroform_beta=[-1.187073,4.507678E-01,1.42246E-01,9.4427E-02,1.417198E-02,1.072633E-03,4.489395E-05,9.877984E-07,8.891901E-09]"
   ]
  },
  {
   "cell_type": "code",
   "execution_count": 16,
   "metadata": {},
   "outputs": [],
   "source": [
    "MAC = [[\"host\", \"guest\"],[\"host\", \"guest2\"], [\"host\", \"guest3\"],[\"host\", \"guest4\"],[\"host\", \"guest6\"]]"
   ]
  },
  {
   "cell_type": "code",
   "execution_count": 17,
   "metadata": {},
   "outputs": [],
   "source": [
    "EtF = [[\"comp1\", \"comp2\"], [\"comp3\", \"comp4\"], [\"comp17\", \"comp18\"], [\"comp19\", \"comp20\"], [\"comp47\", \"comp48\"],\n",
    "[\"comp21\", \"comp22\"], [\"comp23\", \"comp24\"], [\"comp65\", \"comp66\"], [\"comp5\", \"comp6\"], [\"comp7\", \"comp8\"],\n",
    "[\"comp29\", \"comp30\"], [\"comp31\", \"comp32\"], [\"comp51\", \"comp52\"], [\"comp13\", \"comp14\"], [\"comp45\", \"comp46\"], \n",
    "[\"comp67\", \"comp68\"], [\"comp9\", \"comp10\"], [\"comp11\", \"comp12\"], [\"comp25\", \"comp26\"], [\"comp27\", \"comp28\"], \n",
    "[\"comp49\", \"comp50\"], [\"comp39\", \"comp40\"], [\"comp41\", \"comp42\"], [\"comp15\", \"comp16\"]]"
   ]
  },
  {
   "cell_type": "code",
   "execution_count": 18,
   "metadata": {},
   "outputs": [],
   "source": [
    "ZIP = [[\"comp3\", \"comp4\"],[\"comp6\", \"comp7\"],[\"comp9\", \"comp10\"],[\"comp12\", \"comp13\"],[\"comp15\", \"comp16\"],\n",
    "[\"comp18\", \"comp19\"],[\"comp21\", \"comp22\"],[\"comp24\", \"comp25\"],[\"comp27\", \"comp28\"],[\"comp30\", \"comp31\"],\n",
    "[\"comp33\", \"comp34\"],[\"comp36\", \"comp37\"]]"
   ]
  },
  {
   "cell_type": "code",
   "execution_count": 28,
   "metadata": {},
   "outputs": [],
   "source": [
    "comps = [\"comp1\", \"comp2\"]\n",
    "path = \"/home/kate/workspace/MACROCYCLE/AIP/chloroform/\"\n",
    "path = \"/home/kate/workspace/EtoF2/AIP\"\n",
    "#path = \"/home/kate/workspace/ZIPPERS_3/AIP/\"\n",
    "PDB_file1 = f\"{path}/{comps[0]}/{comps[0]}.pdb\"\n",
    "PDB_file2 = f\"{path}/{comps[1]}/{comps[1]}.pdb\""
   ]
  },
  {
   "cell_type": "code",
   "execution_count": 12,
   "metadata": {},
   "outputs": [
    {
     "name": "stdout",
     "output_type": "stream",
     "text": [
      "-1.5142120983340512 -13.169541447619286 -25.5642 -8.405550000000002\n"
     ]
    }
   ],
   "source": [
    "PDB_preprocess(PDB_file1, PDB_file2, \"ssip\")\n",
    "\n",
    "self = Scoring(PDB_file1, PDB_file2, max_aip_dist=0.15, from_PDB=True, bypass_at08=False)\n",
    "try:\n",
    "    dG1 = self.H_bond_df.ddG.sum()\n",
    "    dG2 = self.H_bond_df.ddG.sum()+self.non_polar_df.ddG_sc.sum()\n",
    "    dG1 = self.non_polar_df.ddG_sc.sum()\n",
    "    fracx = self.non_polar_df.L_frac * self.non_polar_df.R_frac\n",
    "    frac = np.array([1 if x == 1 else 0.5 for x in fracx])\n",
    "    dG3 = sum(self.H_bond_df.L_value*self.H_bond_df.R_value)\n",
    "    dG4 = sum([i for i in self.non_polar_df.L_value*self.non_polar_df.R_value*frac])\n",
    "    print(dG1, dG2, dG3, dG4)\n",
    "except:\n",
    "    pass\n",
    "\n",
    "create_ip_vis(self, f\"{comps[0]}_{comps[1]}\")\n",
    "#self.interaction_df.to_csv(f\"{comps[0]}_{comps[1]}.csv\")"
   ]
  },
  {
   "cell_type": "code",
   "execution_count": 13,
   "metadata": {
    "collapsed": true
   },
   "outputs": [
    {
     "data": {
      "text/html": [
       "<div>\n",
       "<style scoped>\n",
       "    .dataframe tbody tr th:only-of-type {\n",
       "        vertical-align: middle;\n",
       "    }\n",
       "\n",
       "    .dataframe tbody tr th {\n",
       "        vertical-align: top;\n",
       "    }\n",
       "\n",
       "    .dataframe thead th {\n",
       "        text-align: right;\n",
       "    }\n",
       "</style>\n",
       "<table border=\"1\" class=\"dataframe\">\n",
       "  <thead>\n",
       "    <tr style=\"text-align: right;\">\n",
       "      <th></th>\n",
       "      <th>L</th>\n",
       "      <th>R</th>\n",
       "      <th>Atom_Distance</th>\n",
       "      <th>L_AIP</th>\n",
       "      <th>R_AIP</th>\n",
       "      <th>AIP_Distance</th>\n",
       "      <th>L_frac</th>\n",
       "      <th>R_frac</th>\n",
       "      <th>L_type</th>\n",
       "      <th>R_type</th>\n",
       "      <th>L_value</th>\n",
       "      <th>R_value</th>\n",
       "      <th>ddG</th>\n",
       "      <th>ddG_sc</th>\n",
       "    </tr>\n",
       "  </thead>\n",
       "  <tbody>\n",
       "    <tr>\n",
       "      <th>0</th>\n",
       "      <td>11.0</td>\n",
       "      <td>68.0</td>\n",
       "      <td>0.311891</td>\n",
       "      <td>41.0</td>\n",
       "      <td>118.0</td>\n",
       "      <td>0.118321</td>\n",
       "      <td>1.0</td>\n",
       "      <td>0.5</td>\n",
       "      <td>H.soft</td>\n",
       "      <td>C.ar</td>\n",
       "      <td>1.53</td>\n",
       "      <td>-2.60</td>\n",
       "      <td>-0.766355</td>\n",
       "      <td>-0.383178</td>\n",
       "    </tr>\n",
       "    <tr>\n",
       "      <th>1</th>\n",
       "      <td>11.0</td>\n",
       "      <td>66.0</td>\n",
       "      <td>0.309466</td>\n",
       "      <td>41.0</td>\n",
       "      <td>116.0</td>\n",
       "      <td>0.140387</td>\n",
       "      <td>1.0</td>\n",
       "      <td>0.5</td>\n",
       "      <td>H.soft</td>\n",
       "      <td>C.ar</td>\n",
       "      <td>1.53</td>\n",
       "      <td>-2.92</td>\n",
       "      <td>-0.837567</td>\n",
       "      <td>-0.418783</td>\n",
       "    </tr>\n",
       "    <tr>\n",
       "      <th>2</th>\n",
       "      <td>13.0</td>\n",
       "      <td>64.0</td>\n",
       "      <td>0.351091</td>\n",
       "      <td>44.0</td>\n",
       "      <td>112.0</td>\n",
       "      <td>0.141097</td>\n",
       "      <td>1.0</td>\n",
       "      <td>0.5</td>\n",
       "      <td>H.soft</td>\n",
       "      <td>C.ar</td>\n",
       "      <td>1.69</td>\n",
       "      <td>-4.95</td>\n",
       "      <td>-1.424502</td>\n",
       "      <td>-0.712251</td>\n",
       "    </tr>\n",
       "    <tr>\n",
       "      <th>3</th>\n",
       "      <td>2.0</td>\n",
       "      <td>61.0</td>\n",
       "      <td>0.211729</td>\n",
       "      <td>27.0</td>\n",
       "      <td>106.0</td>\n",
       "      <td>0.133875</td>\n",
       "      <td>1.0</td>\n",
       "      <td>1.0</td>\n",
       "      <td>H.N</td>\n",
       "      <td>O.2.am</td>\n",
       "      <td>3.11</td>\n",
       "      <td>-8.22</td>\n",
       "      <td>-11.655329</td>\n",
       "      <td>-11.655329</td>\n",
       "    </tr>\n",
       "  </tbody>\n",
       "</table>\n",
       "</div>"
      ],
      "text/plain": [
       "      L     R  Atom_Distance  L_AIP  R_AIP  AIP_Distance  L_frac  R_frac  \\\n",
       "0  11.0  68.0       0.311891   41.0  118.0      0.118321     1.0     0.5   \n",
       "1  11.0  66.0       0.309466   41.0  116.0      0.140387     1.0     0.5   \n",
       "2  13.0  64.0       0.351091   44.0  112.0      0.141097     1.0     0.5   \n",
       "3   2.0  61.0       0.211729   27.0  106.0      0.133875     1.0     1.0   \n",
       "\n",
       "   L_type  R_type  L_value  R_value        ddG     ddG_sc  \n",
       "0  H.soft    C.ar     1.53    -2.60  -0.766355  -0.383178  \n",
       "1  H.soft    C.ar     1.53    -2.92  -0.837567  -0.418783  \n",
       "2  H.soft    C.ar     1.69    -4.95  -1.424502  -0.712251  \n",
       "3     H.N  O.2.am     3.11    -8.22 -11.655329 -11.655329  "
      ]
     },
     "execution_count": 13,
     "metadata": {},
     "output_type": "execute_result"
    }
   ],
   "source": [
    "self.interaction_df#[[\"L_type\", \"R_type\", \"L_value\", \"R_value\", \"AIP_Distance\", \"ddG_sc\"]]"
   ]
  },
  {
   "cell_type": "code",
   "execution_count": 152,
   "metadata": {
    "collapsed": true
   },
   "outputs": [
    {
     "data": {
      "text/plain": [
       "34.97704513155579"
      ]
     },
     "execution_count": 152,
     "metadata": {},
     "output_type": "execute_result"
    }
   ],
   "source": [
    "a,b,c,d,e = get_desolvated_AIPs(self, \"chloroform\", probe_radius=0.2, frac_to_desolv=0.5)\n",
    "sum(b)+sum(c)"
   ]
  },
  {
   "cell_type": "code",
   "execution_count": 154,
   "metadata": {
    "collapsed": true
   },
   "outputs": [
    {
     "data": {
      "text/plain": [
       "-6.35183223202628"
      ]
     },
     "execution_count": 154,
     "metadata": {},
     "output_type": "execute_result"
    }
   ],
   "source": [
    "all_atoms = np.array(list(self.state.ligand_atom_indices)+list(self.state.residue_atom_indices))\n",
    "PrimInterAipDict = get_PrimInterAipDict(self)\n",
    "AIP_dict = self.AIP_L.copy()\n",
    "AIP_dict.update(self.AIP_R)\n",
    "all_desolv = [PrimInterAipDict[a][0] for a in all_atoms[b != 0]]\n",
    "all_inter = list(joined_df.L_AIP)+list(joined_df.R_AIP)\n",
    "just_desolv = [a for a in all_desolv if a not in all_inter]\n",
    "sum([get_free_energy_of_solvation(AIP_dict[a].value, \"hexadecane\") for a in just_desolv])"
   ]
  },
  {
   "cell_type": "code",
   "execution_count": 341,
   "metadata": {},
   "outputs": [],
   "source": [
    "p_array = np.round(np.arange(0,1.1,0.1),2)\n",
    "\n",
    "sb = []; sf = []\n",
    "for p in p_array:\n",
    "    probe_radius = p\n",
    "    all_atoms = list(self.state.ligand_atom_indices)+list(self.state.residue_atom_indices)\n",
    "    all_area = [4*np.pi*(self.mdTrajectory.topology.atom(mol).element.radius + probe_radius)**2 for mol in all_atoms]\n",
    "    #all_area = 1\n",
    "    traj = self.mdTrajectory.atom_slice(all_atoms)\n",
    "    traj_lig = self.mdTrajectory.atom_slice(self.state.ligand_atom_indices)\n",
    "    traj_res = self.mdTrajectory.atom_slice(self.state.residue_atom_indices)\n",
    "    sasa_bound = md.shrake_rupley(traj, probe_radius=probe_radius, n_sphere_points=1000, get_mapping=True)[0][0]\n",
    "    sasa_lig = md.shrake_rupley(traj_lig, probe_radius=probe_radius, n_sphere_points=1000, get_mapping=True)[0][0]\n",
    "    sasa_res = md.shrake_rupley(traj_res, probe_radius=probe_radius, n_sphere_points=1000, get_mapping=True)[0][0]\n",
    "    sasa_free = np.concatenate((sasa_lig, sasa_res))\n",
    "    sb.append(sasa_bound/all_area)\n",
    "    sf.append(sasa_free/all_area)"
   ]
  },
  {
   "cell_type": "code",
   "execution_count": 167,
   "metadata": {
    "collapsed": true
   },
   "outputs": [
    {
     "data": {
      "image/png": "[encoded data removed]",
      "text/plain": [
       "<Figure size 720x1800 with 2 Axes>"
      ]
     },
     "metadata": {
      "needs_background": "light"
     },
     "output_type": "display_data"
    }
   ],
   "source": [
    "atypes = [v.type for k,v in self.Atom_L.items()]+[v.type for k,v in self.Atom_R.items()]\n",
    "fig, ax = plt.subplots()\n",
    "fig.set_size_inches(10, 25)\n",
    "#func = (np.array(sf).T) - (np.array(sb).T)\n",
    "#func = np.divide(func,(np.array(sf).T), out=np.zeros_like(func), where=(np.array(sf).T)!=0)\n",
    "#func = (np.array(sf).T)\n",
    "func = a.reshape(63,1)\n",
    "im = ax.pcolormesh(func,cmap=\"bone\")\n",
    "#ax.set_xticks(np.arange(len(p_array)));\n",
    "ax.set_yticks(np.arange(len(atypes)));\n",
    "ax.set_yticklabels(atypes);\n",
    "#ax.set_xticklabels(np.round(p_array,2));\n",
    "fig.colorbar(im);"
   ]
  },
  {
   "cell_type": "code",
   "execution_count": 21,
   "metadata": {
    "scrolled": true
   },
   "outputs": [],
   "source": [
    "probe_dict_2 = {}\n",
    "p_array = np.round(np.arange(0,1.1,0.1),2)\n",
    "f_array = np.round(np.arange(0.1,0.8,0.1),2)\n",
    "for i in EtF:\n",
    "    comps = i[0:2]\n",
    "    PDB_file1 = f\"{path}/{comps[0]}/{comps[0]}.pdb\"\n",
    "    PDB_file2 = f\"{path}/{comps[1]}/{comps[1]}.pdb\"\n",
    "    PDB_preprocess(PDB_file1, PDB_file2, \"ssip\")\n",
    "    self = Scoring(PDB_file1, PDB_file2, max_aip_dist=0.15, from_PDB=True, bypass_at08=False, ext_upon_desolv=0.05)\n",
    "    if len(self.non_polar_add) > 0:\n",
    "        add = sum(self.non_polar_add.ddG_sc)\n",
    "    if True:\n",
    "        if i[0] == \"comp1\": #comp3 for ZIPPERS2/3\n",
    "            for p in p_array:\n",
    "                frac_dict = {}\n",
    "                for f in f_array:\n",
    "                    _,_,c,d,e = get_desolvated_AIPs(self, \"chloroform\", probe_radius=p, frac_to_desolv=f)\n",
    "                    solv_H = excl_DMC(self)\n",
    "                    frac_dict[f] = [sum(d)+sum(c)+solv_H+add]\n",
    "                probe_dict_2[p] = frac_dict\n",
    "        else:\n",
    "            for p in p_array:\n",
    "                for f in f_array:\n",
    "                    _,_,c,d,e = get_desolvated_AIPs(self, \"chloroform\", probe_radius=p, frac_to_desolv=f)\n",
    "                    solv_H = excl_DMC(self)\n",
    "                    probe_dict_2[p][f].append(sum(d)+sum(c)+solv_H+add)"
   ]
  },
  {
   "cell_type": "markdown",
   "metadata": {},
   "source": [
    "# Histograms for just p_array"
   ]
  },
  {
   "cell_type": "code",
   "execution_count": 31,
   "metadata": {
    "scrolled": true
   },
   "outputs": [],
   "source": [
    "arom_a_dict = {}\n",
    "p_array = np.round(np.arange(0,1.1,0.1),2)\n",
    "f=0.5\n",
    "for i in EtF:\n",
    "    comps = i[0:2]\n",
    "    PDB_file1 = f\"{path}/{comps[0]}/{comps[0]}.pdb\"\n",
    "    PDB_file2 = f\"{path}/{comps[1]}/{comps[1]}.pdb\"\n",
    "    PDB_preprocess(PDB_file1, PDB_file2, \"ssip\")\n",
    "    self = Scoring(PDB_file1, PDB_file2, max_aip_dist=0.1, from_PDB=True, bypass_at08=False)\n",
    "    atypes = [v.type for k,v in self.Atom_L.items()]+[v.type for k,v in self.Atom_R.items()]\n",
    "    for p in p_array:\n",
    "        if i[0] == \"comp1\":\n",
    "            arom_a_dict[p] = []\n",
    "        _,a,_,_,_ = get_desolvated_AIPs(self, \"chloroform\", probe_radius=p, frac_to_desolv=f)\n",
    "        [arom_a_dict[p].append(x) for q, x in enumerate(a) if atypes[q] == \"C.ar\"]\n"
   ]
  },
  {
   "cell_type": "code",
   "execution_count": 32,
   "metadata": {},
   "outputs": [
    {
     "data": {
      "image/png": "[encoded data removed]",
      "text/plain": [
       "<Figure size 432x288 with 1 Axes>"
      ]
     },
     "metadata": {
      "needs_background": "light"
     },
     "output_type": "display_data"
    }
   ],
   "source": [
    "#C.ar in edge-to-face desolvation histogram\n",
    "plt.hist(arom_a_dict[0.1],alpha=0.5);\n",
    "plt.hist(arom_a_dict[0.2],alpha=0.5);\n",
    "plt.hist(arom_a_dict[0.3],alpha=0.5);"
   ]
  },
  {
   "cell_type": "code",
   "execution_count": 392,
   "metadata": {
    "collapsed": true
   },
   "outputs": [
    {
     "data": {
      "image/png": "[encoded data removed]",
      "text/plain": [
       "<Figure size 432x288 with 1 Axes>"
      ]
     },
     "metadata": {
      "needs_background": "light"
     },
     "output_type": "display_data"
    }
   ],
   "source": [
    "#H.soft in edge-to-face desolvation histogram\n",
    "plt.hist(h_soft_dict[0.1],alpha=0.5);\n",
    "plt.hist(h_soft_dict[0.2],alpha=0.5);\n",
    "plt.hist(h_soft_dict[0.3],alpha=0.5);"
   ]
  },
  {
   "cell_type": "markdown",
   "metadata": {},
   "source": [
    "# Final KEY interactive plot"
   ]
  },
  {
   "cell_type": "code",
   "execution_count": 36,
   "metadata": {},
   "outputs": [],
   "source": [
    "with open('EtoF2_probe_frac_ext05+ext.pkl', 'rb') as f:\n",
    "    probe_dict_2 = pickle.load(f)"
   ]
  },
  {
   "cell_type": "code",
   "execution_count": 37,
   "metadata": {},
   "outputs": [],
   "source": [
    "#EtoF\n",
    "p_array = np.round(np.arange(0,1.1,0.1),2)\n",
    "f_array = np.round(np.arange(0.1,0.8,0.1),2)\n",
    "abproduct = np.array([-13.45,-10.46,-5.88,-5.57,-9.85,-7.13,-8.94,-11.02,-4.28,-3.17,-4.27,-3.96,-4.86,-5.30,\n",
    "            -4.87,-5.24,-12.49,-12.04,-6.95,-6.41,-7.79,-8.37,-9.17,-8.27])\n",
    "NA = np.nan\n",
    "expt = np.array([-8.7,-9.2,NA,-1.8,-3.6,NA,-2.6,-5.6,-1,2.4,NA,-2.8,NA,-0.2,-0.4,-1.8,-6.2,-6.9,NA,-2.2,-2.8,NA,\n",
    "                 -3.2,-4.8])"
   ]
  },
  {
   "cell_type": "code",
   "execution_count": 23,
   "metadata": {},
   "outputs": [],
   "source": [
    "#ZIP\n",
    "abproduct = [10.93,6.30,9.06,5.33,7.18,-1.60,-0.23,-0.49,11.62,13.73,11.65,3.60]\n",
    "expt = [NA, 0.80,1.10,-1.20,0.20,-2.90,-3.20,-2.20,0.40,1.50,0.90,-1.70]\n"
   ]
  },
  {
   "cell_type": "code",
   "execution_count": 38,
   "metadata": {},
   "outputs": [],
   "source": [
    "def plot_interactive(p, f):\n",
    "    fig, ax = plt.subplots()\n",
    "    fig.set_size_inches(10, 10)\n",
    "    ax.scatter(expt,abproduct,marker=\"x\");\n",
    "    #y = abproduct+np.array(probe_dict[p][f])+np.array(probe_dict_2[p][f])\n",
    "    y = abproduct+np.array(probe_dict_2[p][f])\n",
    "    ax.scatter(expt, y, marker=\"x\");\n",
    "    ax.plot(np.arange(-14,5),np.arange(-14,5));\n",
    "    #ax.set_xlim(-11,4);\n",
    "    #ax.set_ylim(-15,125);\n",
    "    #ax.set_xlim(-4,2);\n",
    "    \n",
    "    #ax.set_ylim(-4,60);\n",
    "    return"
   ]
  },
  {
   "cell_type": "code",
   "execution_count": 39,
   "metadata": {},
   "outputs": [
    {
     "data": {
      "application/vnd.jupyter.widget-view+json": {
       "model_id": "10b1feaa202e458eb297cf588f55a44d",
       "version_major": 2,
       "version_minor": 0
      },
      "text/plain": [
       "interactive(children=(Dropdown(description='p', options=(0.0, 0.1, 0.2, 0.3, 0.4, 0.5, 0.6, 0.7, 0.8, 0.9, 1.0…"
      ]
     },
     "metadata": {},
     "output_type": "display_data"
    }
   ],
   "source": [
    "interact(plot_interactive, p=p_array, f=f_array);"
   ]
  },
  {
   "cell_type": "code",
   "execution_count": null,
   "metadata": {},
   "outputs": [],
   "source": []
  }
 ],
 "metadata": {
  "kernelspec": {
   "display_name": "Python 3",
   "language": "python",
   "name": "python3"
  },
  "language_info": {
   "codemirror_mode": {
    "name": "ipython",
    "version": 3
   },
   "file_extension": ".py",
   "mimetype": "text/x-python",
   "name": "python",
   "nbconvert_exporter": "python",
   "pygments_lexer": "ipython3",
   "version": "3.7.4"
  }
 },
 "nbformat": 4,
 "nbformat_minor": 4
}
