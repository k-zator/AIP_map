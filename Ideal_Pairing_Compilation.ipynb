{
 "cells": [
  {
   "cell_type": "code",
   "execution_count": 1,
   "metadata": {},
   "outputs": [],
   "source": [
    "#from calc_phase_transfer import get_free_energy_of_phase_transfer\n",
    "from ssipscore.get_desolvation import get_free_energy_of_solvation\n",
    "from ssipscore.asc import calculate_binding_energy as bc\n",
    "from ssipscore.asc import calculate_association_energy as ac"
   ]
  },
  {
   "cell_type": "code",
   "execution_count": 1,
   "metadata": {},
   "outputs": [],
   "source": [
    "#macrocycle\n",
    "AIPs = [-1.37,-1.3,-1.09,-1.48,-1.37,-1.29,-1.09,-1.48,-1.03,-1.02,-0.85,-1.03,-1.02,-0.9,1.12,1.12,1.14,1.16]\n",
    "#AIPs = [2.96,2.96,2.96,2.96,1.42,1.42,1.43,1.43,-6.99,-7.00,-6.76,-6.77] #guest\n",
    "#AIPs = [-1.15,-1.59,-1.26,-1.61,-1.27,-1.61,-1.17,-1.59,2.28,2.40,2.30,2.19] #host\n",
    "#AIPs = [-0.55,-0.55,-0.46,-0.46,1.79,1.79,1.77,1.77,-3.21,-3.28,-4.02,-4.07] #guest2\n",
    "#AIPs = [1.07,1.07,1.06,1.06,1.07,1.07,1.08,1.08,-4.85,-4.86,-4.89,-4.88] #guest3\n",
    "#AIPs = [1.49,1.49,1.48,1.48,1.49,1.49,1.48,1.48,-4.12,-4.07,-4.07,-4.07] #guest4"
   ]
  },
  {
   "cell_type": "code",
   "execution_count": 3,
   "metadata": {},
   "outputs": [],
   "source": [
    "AIPs = [-2.23, -2.05, -1.36, -1.22, -1.28, -1.51, -0.80, -0.91, -0.99, -0.96, -0.98, -0.94] #NO2\n",
    "#AIPs = [-3.09, -2.57, -2.24, -2.1, -2.24, -2.57, -1.75, -1.84, -1.89, -1.88, -1.9, -1.84] #NMe2\n",
    "#AIPs = [-2.87, -2.33, -2.02, -2.01, -2.02, -2.33, -1.48, -1.57, -1.71, -1.71, -1.71, -1.58] #H\n"
   ]
  },
  {
   "cell_type": "code",
   "execution_count": 28,
   "metadata": {},
   "outputs": [],
   "source": [
    "#e-to-f\n",
    "#AIPs = [-2.90,-2.47,-0.85,-0.52,-0.65,-1.15,0.37,0.13,0.03,0.09,-0.03,0.17] #NO2\n",
    "#AIPs = [-4.95,-3.72,-2.93,-2.60,-2.93,-3.63,-1.78,-2.00,-2.11,-2.08,-2.12,-1.98] #NMe2\n",
    "#AIPs = [-4.43,-3.14,-2.41,-2.38,-2.41,-3.10,-1.14,-1.36,-1.68,-1.69,-1.68,-1.37] #H\n",
    "AIPs = [1.69,1.66,1.01,1.09,1.23,1.24,1.18,1.67,1.53,1.42,0.94,1.05,1.11,0.88,1.01,1.09] #vert1\n",
    "#AIPs = [1.03,1.02,0.24,0.50,0.69,0.35,0.62,0.87,1.50,1.32,0.82,0.98,1.02,0.89,0.98,0.99] #vert2"
   ]
  },
  {
   "cell_type": "code",
   "execution_count": 18,
   "metadata": {},
   "outputs": [],
   "source": [
    "#e-to-f Hs\n",
    "AIPv = [1.69,1.53,0,0,0,0,1.03,1.50,0,0,0,0]\n",
    "AIPv = [1.66,1.42,0,0,0,0,1.02,1.32,0,0,0,0]\n",
    "AIPv = [1.01,0.94,0,0,0,0,0.24,0.82,0,0,0,0]\n",
    "AIPv = [1.09,1.05,0,0,0,0,0.50,0.98,0,0,0,0]\n",
    "AIPv = [1.23,1.11,0,0,0,0,0.69,1.02,0,0,0,0]\n",
    "AIPv = [1.24,0.88,0,0,0,0,0.35,0.89,0,0,0,0]\n",
    "AIPv = [1.18,1.01,0,0,0,0,0.62,0.98,0,0,0,0]\n",
    "AIPv = [1.67,1.09,0,0,0,0,0.87,0.99,0,0,0,0]"
   ]
  },
  {
   "cell_type": "code",
   "execution_count": 19,
   "metadata": {},
   "outputs": [
    {
     "name": "stdout",
     "output_type": "stream",
     "text": [
      "-5.3152892524635575\n"
     ]
    }
   ],
   "source": [
    "dgall = []\n",
    "for i, a in enumerate(AIPs):\n",
    "    k = bc(a, AIPv[i], \"chloroform\")\n",
    "    dgall.append(k)\n",
    "print(dgall[0]+dgall[1]+dgall[6]+dgall[7]+2.256444222869991*8)"
   ]
  },
  {
   "cell_type": "code",
   "execution_count": 29,
   "metadata": {},
   "outputs": [
    {
     "name": "stdout",
     "output_type": "stream",
     "text": [
      "1.531627636767648\n",
      "1.5255335367014402\n",
      "1.3986630595604481\n",
      "1.4137531588045908\n",
      "1.4405108791632928\n",
      "1.4424393129761388\n",
      "1.4309031384538349\n",
      "1.5275625273156883\n",
      "1.4993721239881088\n",
      "1.4775462890234434\n",
      "1.3855774559687735\n",
      "1.4061900277356618\n",
      "1.4175483288651856\n",
      "1.3744484389346994\n",
      "1.3986630595604481\n",
      "1.4137531588045908\n"
     ]
    }
   ],
   "source": [
    "for a in AIPs:\n",
    "    k = get_free_energy_of_solvation(a, \"chloroform\")\n",
    "    print(-k)"
   ]
  },
  {
   "cell_type": "code",
   "execution_count": 4,
   "metadata": {
    "collapsed": true
   },
   "outputs": [
    {
     "ename": "NameError",
     "evalue": "name 'get_free_energy_of_phase_transfer' is not defined",
     "output_type": "error",
     "traceback": [
      "\u001b[0;31m---------------------------------------------------------------------------\u001b[0m",
      "\u001b[0;31mNameError\u001b[0m                                 Traceback (most recent call last)",
      "\u001b[0;32m<ipython-input-4-cc37f4d43791>\u001b[0m in \u001b[0;36m<module>\u001b[0;34m\u001b[0m\n\u001b[1;32m      1\u001b[0m \u001b[0;32mfor\u001b[0m \u001b[0ma\u001b[0m \u001b[0;32min\u001b[0m \u001b[0mAIPs\u001b[0m\u001b[0;34m:\u001b[0m\u001b[0;34m\u001b[0m\u001b[0;34m\u001b[0m\u001b[0m\n\u001b[0;32m----> 2\u001b[0;31m     \u001b[0mk\u001b[0m \u001b[0;34m=\u001b[0m \u001b[0mget_free_energy_of_phase_transfer\u001b[0m\u001b[0;34m(\u001b[0m\u001b[0ma\u001b[0m\u001b[0;34m,\u001b[0m \u001b[0;32mFalse\u001b[0m\u001b[0;34m)\u001b[0m\u001b[0;34m\u001b[0m\u001b[0;34m\u001b[0m\u001b[0m\n\u001b[0m\u001b[1;32m      3\u001b[0m     \u001b[0mprint\u001b[0m\u001b[0;34m(\u001b[0m \u001b[0;34m-\u001b[0m\u001b[0mk\u001b[0m\u001b[0;34m)\u001b[0m\u001b[0;34m\u001b[0m\u001b[0;34m\u001b[0m\u001b[0m\n",
      "\u001b[0;31mNameError\u001b[0m: name 'get_free_energy_of_phase_transfer' is not defined"
     ]
    }
   ],
   "source": [
    "for a in AIPs:\n",
    "    k = get_free_energy_of_phase_transfer(a, False)\n",
    "    print( -k)"
   ]
  },
  {
   "cell_type": "code",
   "execution_count": 21,
   "metadata": {},
   "outputs": [
    {
     "data": {
      "text/plain": [
       "-4.6831413768969155"
      ]
     },
     "execution_count": 21,
     "metadata": {},
     "output_type": "execute_result"
    }
   ],
   "source": [
    "bc(0.37, 1.03, \"chloroform\")"
   ]
  },
  {
   "cell_type": "code",
   "execution_count": 3,
   "metadata": {},
   "outputs": [
    {
     "data": {
      "text/plain": [
       "-7.735520653742966"
      ]
     },
     "execution_count": 3,
     "metadata": {},
     "output_type": "execute_result"
    }
   ],
   "source": [
    "bc(-2.90, 1.69, \"chloroform\")"
   ]
  },
  {
   "cell_type": "code",
   "execution_count": 8,
   "metadata": {},
   "outputs": [],
   "source": [
    "import numpy as np\n",
    "epsilon_i = -2.90\n",
    "epsilon_j = 1.69"
   ]
  },
  {
   "cell_type": "code",
   "execution_count": 10,
   "metadata": {},
   "outputs": [],
   "source": [
    "    temperature = 298\n",
    "    EvdW = -5.6  # kJmol^-1.\n",
    "    GAS_CONSTANT = 8.3144598  # Jmol^-1.\n",
    "    K_vdW = 0.5 * np.exp(-EvdW * np.power(10, 3) /\n",
    "                         (GAS_CONSTANT * temperature))\n",
    "    t = 0.45466667\n",
    "\n",
    "    # including repulsion ##if epsilon_i * epsilon_j < 0.0 else 0.0\n",
    "    interaction_energy = epsilon_i * epsilon_j\n",
    "    K = 0.5 * np.exp(-(interaction_energy + EvdW) *\n",
    "                     np.power(10, 3) / (GAS_CONSTANT * temperature))\n",
    "\n",
    "    \n",
    "\n",
    "\n",
    "    association_constant = K + K_vdW\n",
    "    frac_num = -1.0 + np.sqrt(1.0 + 4 * association_constant * t)\n",
    "    frac_den = 2 * association_constant * t\n",
    "    binding_energy = 2 * GAS_CONSTANT * temperature * \\\n",
    "        np.log(frac_num / frac_den) / np.power(10, 3)"
   ]
  },
  {
   "cell_type": "code",
   "execution_count": 16,
   "metadata": {},
   "outputs": [
    {
     "data": {
      "text/plain": [
       "-7.735520653742966"
      ]
     },
     "execution_count": 16,
     "metadata": {},
     "output_type": "execute_result"
    }
   ],
   "source": [
    "binding_energy\n"
   ]
  },
  {
   "cell_type": "code",
   "execution_count": 17,
   "metadata": {},
   "outputs": [],
   "source": [
    "    t = 0.45466667\n",
    "    temperature = 298\n",
    "    EvdW = -5.6  # kJmol^-1.\n",
    "    GAS_CONSTANT = 8.3144598  # Jmol^-1.    \n",
    "    c_frac_num = -1.0 + np.sqrt(1.0 + 8 * t)\n",
    "    c_frac_den = 4 * t\n",
    "    confinement_energy = - 2 * GAS_CONSTANT * temperature * \\\n",
    "        np.log(c_frac_num / c_frac_den) / np.power(10, 3)"
   ]
  },
  {
   "cell_type": "code",
   "execution_count": 19,
   "metadata": {},
   "outputs": [
    {
     "data": {
      "text/plain": [
       "1.1282221114349955"
      ]
     },
     "execution_count": 19,
     "metadata": {},
     "output_type": "execute_result"
    }
   ],
   "source": [
    "confinement_energy/2"
   ]
  },
  {
   "cell_type": "code",
   "execution_count": null,
   "metadata": {},
   "outputs": [],
   "source": []
  }
 ],
 "metadata": {
  "kernelspec": {
   "display_name": "Python 3",
   "language": "python",
   "name": "python3"
  },
  "language_info": {
   "codemirror_mode": {
    "name": "ipython",
    "version": 3
   },
   "file_extension": ".py",
   "mimetype": "text/x-python",
   "name": "python",
   "nbconvert_exporter": "python",
   "pygments_lexer": "ipython3",
   "version": "3.7.4"
  }
 },
 "nbformat": 4,
 "nbformat_minor": 4
}
