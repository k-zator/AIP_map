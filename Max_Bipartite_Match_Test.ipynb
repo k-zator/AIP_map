{
 "cells": [
  {
   "cell_type": "code",
   "execution_count": 1,
   "metadata": {},
   "outputs": [],
   "source": [
    "import networkx as nx\n",
    "import numpy as np\n",
    "import pandas as pd"
   ]
  },
  {
   "cell_type": "code",
   "execution_count": null,
   "metadata": {},
   "outputs": [],
   "source": [
    "for i in contacts:\n",
    "    if i[3] == 1.0:\n",
    "        j = np.array([i[0]+1000, i[1], i[2], 0, 0])\n",
    "        contacts = np.vstack((contacts, j))\n",
    "    elif i[4] == 1.0:\n",
    "        j = np.array([i[0], i[1]+1000, i[2], 0, 0])\n",
    "        contacts = np.vstack((contacts, j))"
   ]
  },
  {
   "cell_type": "code",
   "execution_count": 2,
   "metadata": {
    "scrolled": true
   },
   "outputs": [],
   "source": [
    "G = nx.Graph()\n",
    "G.add_nodes_from([0,1,2,3,4,5], bipartite=0)\n",
    "G.add_nodes_from([6,7,8,9,10,11], bipartite=1)\n",
    "G.add_edges_from([(47, 378, {'weight': 0.02}),\n",
    " (66, 233, {'weight': 0.05}),\n",
    " (60, 344, {'weight': 0.06}),\n",
    " (45, 279, {'weight': 0.06}),\n",
    " (41, 282, {'weight': 0.08}),\n",
    " (43, 387, {'weight': 0.08}),\n",
    " (60, 284, {'weight': 0.09}),\n",
    " (64, 334, {'weight': 0.09}),\n",
    " (48, 375, {'weight': 0.09}),\n",
    " (43, 385, {'weight': 0.1}),\n",
    " (64, 336, {'weight': 0.1}),\n",
    " (49, 230, {'weight': 0.1}),\n",
    " (44, 387, {'weight': 0.11}),\n",
    " (65, 338, {'weight': 0.11}),\n",
    " (51, 375, {'weight': 0.11}),\n",
    " (49, 239, {'weight': 0.11}),\n",
    " (56, 393, {'weight': 0.12}),\n",
    " (56, 385, {'weight': 0.12}),\n",
    " (48, 370, {'weight': 0.12}),\n",
    " (53, 381, {'weight': 0.12}),\n",
    " (53, 233, {'weight': 0.12}),\n",
    " (54, 235, {'weight': 0.12}),\n",
    " (41, 281, {'weight': 0.13}),\n",
    " (44, 327, {'weight': 0.13}),\n",
    " (51, 376, {'weight': 0.13}),\n",
    " (42, 279, {'weight': 0.13}),\n",
    " (46, 235, {'weight': 0.14}),\n",
    " (40, 376, {'weight': 0.14}),\n",
    " (51, 370, {'weight': 0.14}),\n",
    " (50, 273, {'weight': 0.14}),\n",
    " (49, 290, {'weight': 0.14}),\n",
    " (42, 336, {'weight': 0.14}),\n",
    " (59, 282, {'weight': 0.14}),\n",
    " (46, 237, {'weight': 0.14}),\n",
    " (68, 225, {'weight': 0.15}),\n",
    " (58, 296, {'weight': 0.15}),\n",
    " (55, 392, {'weight': 0.15}),\n",
    " (65, 319, {'weight': 0.15}),\n",
    " (65, 327, {'weight': 0.15}),\n",
    " (50, 274, {'weight': 0.15}),\n",
    " (57, 383, {'weight': 0.15}),\n",
    " (68, 221, {'weight': 0.15}),\n",
    " (65, 323, {'weight': 0.15}),\n",
    " (50, 275, {'weight': 0.15}),\n",
    " (54, 296, {'weight': 0.16}),\n",
    " (40, 383, {'weight': 0.16}),\n",
    " (42, 284, {'weight': 0.16}),\n",
    " (1066, 233, {'weight': 0.05}),\n",
    " (60, 1344, {'weight': 0.06}),\n",
    " (1064, 334, {'weight': 0.09}),\n",
    " (1064, 336, {'weight': 0.1}),\n",
    " (1065, 338, {'weight': 0.11}),\n",
    " (56, 1393, {'weight': 0.12}),\n",
    " (49, 1290, {'weight': 0.14}),\n",
    " (1068, 225, {'weight': 0.15}),\n",
    " (58, 1296, {'weight': 0.15}),\n",
    " (55, 1392, {'weight': 0.15}),\n",
    " (1065, 319, {'weight': 0.15}),\n",
    " (1065, 327, {'weight': 0.15}),\n",
    " (1068, 221, {'weight': 0.15}),\n",
    " (1065, 323, {'weight': 0.15}),\n",
    " (54, 1296, {'weight': 0.16})])\n",
    "nx.is_connected(G)\n",
    "aa = nx.max_weight_matching(G, weight='weight')"
   ]
  },
  {
   "cell_type": "code",
   "execution_count": 3,
   "metadata": {},
   "outputs": [
    {
     "data": {
      "text/plain": [
       "array([[ 45, 279],\n",
       "       [ 57, 383],\n",
       "       [ 66, 233],\n",
       "       [ 64, 334],\n",
       "       [ 56, 393],\n",
       "       [ 54, 296],\n",
       "       [ 51, 370],\n",
       "       [ 64, 336],\n",
       "       [ 47, 378],\n",
       "       [ 46, 237],\n",
       "       [ 44, 327],\n",
       "       [ 65, 323],\n",
       "       [ 50, 275],\n",
       "       [ 41, 281],\n",
       "       [ 59, 282],\n",
       "       [ 53, 381],\n",
       "       [ 48, 375],\n",
       "       [ 55, 392],\n",
       "       [ 58, 296],\n",
       "       [ 68, 221],\n",
       "       [ 40, 376],\n",
       "       [ 68, 225],\n",
       "       [ 60, 344],\n",
       "       [ 49, 290],\n",
       "       [ 43, 385],\n",
       "       [ 42, 284],\n",
       "       [ 65, 319]])"
      ]
     },
     "execution_count": 3,
     "metadata": {},
     "output_type": "execute_result"
    }
   ],
   "source": [
    "final = []\n",
    "for i in aa:\n",
    "    if i[0] > 1000:\n",
    "        pair = np.array([i[0] - 1000, i[1]])\n",
    "    elif i[1] > 1000:\n",
    "        pair = np.array([i[0], i[1] - 1000])\n",
    "    else:\n",
    "        pair = np.array([i[0], i[1]])\n",
    "    if pair[0] > 100:#len\n",
    "        pair = np.flip(pair)\n",
    "    final.append(pair)\n",
    "np.array(final)"
   ]
  },
  {
   "cell_type": "code",
   "execution_count": 4,
   "metadata": {},
   "outputs": [
    {
     "data": {
      "text/plain": [
       "array([319,  65])"
      ]
     },
     "execution_count": 4,
     "metadata": {},
     "output_type": "execute_result"
    }
   ],
   "source": [
    "np.flip(pair)"
   ]
  },
  {
   "cell_type": "code",
   "execution_count": null,
   "metadata": {},
   "outputs": [],
   "source": [
    "nx.draw(G)"
   ]
  },
  {
   "cell_type": "code",
   "execution_count": 12,
   "metadata": {},
   "outputs": [],
   "source": [
    "#or weighted\n",
    "G.add_edges_from([(0, 6), (1, 6),\n",
    "                  (1, 7), (2, 7), \n",
    "                  (2, 8), (3, 8), \n",
    "                  (3, 9), (4, 9), \n",
    "                  (4, 10),(5,10), \n",
    "                  (5, 11),(0,11),\n",
    "                  (12,11)])\n",
    "\n",
    "G.add_edges_from([(0, 6, {'weight':1}), (1, 6, {'weight':7}), (1, 7, {'weight':7}), (2, 7, {'weight':7}), \n",
    "(2, 8, {'weight':7}), (3, 8, {'weight':7}), (3, 9, {'weight':7}), (4, 9, {'weight':7}), (4, 10, {'weight':7}),\n",
    "(5, 10, {'weight':7}), (5,11, {'weight':7}), (0,11, {'weight':7})])"
   ]
  },
  {
   "cell_type": "code",
   "execution_count": 26,
   "metadata": {},
   "outputs": [],
   "source": [
    "import igraph as ig"
   ]
  },
  {
   "cell_type": "code",
   "execution_count": 32,
   "metadata": {},
   "outputs": [
    {
     "ename": "TypeError",
     "evalue": "only non-negative integers, strings or igraph.Vertex objects can be converted to vertex IDs",
     "output_type": "error",
     "traceback": [
      "\u001b[0;31m---------------------------------------------------------------------------\u001b[0m",
      "\u001b[0;31mTypeError\u001b[0m                                 Traceback (most recent call last)",
      "\u001b[0;32m<ipython-input-32-0a2d2bbbff6a>\u001b[0m in \u001b[0;36m<module>\u001b[0;34m\u001b[0m\n\u001b[1;32m     47\u001b[0m  \u001b[0;34m(\u001b[0m\u001b[0;36m54.0\u001b[0m\u001b[0;34m,\u001b[0m \u001b[0;36m296.0\u001b[0m\u001b[0;34m)\u001b[0m\u001b[0;34m,\u001b[0m\u001b[0;34m\u001b[0m\u001b[0;34m\u001b[0m\u001b[0m\n\u001b[1;32m     48\u001b[0m  \u001b[0;34m(\u001b[0m\u001b[0;36m40.0\u001b[0m\u001b[0;34m,\u001b[0m \u001b[0;36m383.0\u001b[0m\u001b[0;34m)\u001b[0m\u001b[0;34m,\u001b[0m\u001b[0;34m\u001b[0m\u001b[0;34m\u001b[0m\u001b[0m\n\u001b[0;32m---> 49\u001b[0;31m  (42.0, 284.0)])\n\u001b[0m\u001b[1;32m     50\u001b[0m \u001b[0mmatching\u001b[0m \u001b[0;34m=\u001b[0m \u001b[0mg\u001b[0m\u001b[0;34m.\u001b[0m\u001b[0mmaximum_bipartite_matching\u001b[0m\u001b[0;34m(\u001b[0m\u001b[0;34m)\u001b[0m\u001b[0;34m\u001b[0m\u001b[0;34m\u001b[0m\u001b[0m\n\u001b[1;32m     51\u001b[0m \u001b[0;34m\u001b[0m\u001b[0m\n",
      "\u001b[0;32m~/anaconda3/envs/openmm/lib/python3.7/site-packages/igraph/io/bipartite.py\u001b[0m in \u001b[0;36m_construct_bipartite_graph\u001b[0;34m(cls, types, edges, directed, *args, **kwds)\u001b[0m\n\u001b[1;32m     85\u001b[0m       \u001b[0mstores\u001b[0m \u001b[0mthe\u001b[0m \u001b[0mvertex\u001b[0m \u001b[0mclasses\u001b[0m\u001b[0;34m.\u001b[0m\u001b[0;34m\u001b[0m\u001b[0;34m\u001b[0m\u001b[0m\n\u001b[1;32m     86\u001b[0m     \"\"\"\n\u001b[0;32m---> 87\u001b[0;31m     \u001b[0mresult\u001b[0m \u001b[0;34m=\u001b[0m \u001b[0mcls\u001b[0m\u001b[0;34m.\u001b[0m\u001b[0m_Bipartite\u001b[0m\u001b[0;34m(\u001b[0m\u001b[0mtypes\u001b[0m\u001b[0;34m,\u001b[0m \u001b[0medges\u001b[0m\u001b[0;34m,\u001b[0m \u001b[0mdirected\u001b[0m\u001b[0;34m,\u001b[0m \u001b[0;34m*\u001b[0m\u001b[0margs\u001b[0m\u001b[0;34m,\u001b[0m \u001b[0;34m**\u001b[0m\u001b[0mkwds\u001b[0m\u001b[0;34m)\u001b[0m\u001b[0;34m\u001b[0m\u001b[0;34m\u001b[0m\u001b[0m\n\u001b[0m\u001b[1;32m     88\u001b[0m     \u001b[0mresult\u001b[0m\u001b[0;34m.\u001b[0m\u001b[0mvs\u001b[0m\u001b[0;34m[\u001b[0m\u001b[0;34m\"type\"\u001b[0m\u001b[0;34m]\u001b[0m \u001b[0;34m=\u001b[0m \u001b[0;34m[\u001b[0m\u001b[0mbool\u001b[0m\u001b[0;34m(\u001b[0m\u001b[0mx\u001b[0m\u001b[0;34m)\u001b[0m \u001b[0;32mfor\u001b[0m \u001b[0mx\u001b[0m \u001b[0;32min\u001b[0m \u001b[0mtypes\u001b[0m\u001b[0;34m]\u001b[0m\u001b[0;34m\u001b[0m\u001b[0;34m\u001b[0m\u001b[0m\n\u001b[1;32m     89\u001b[0m     \u001b[0;32mreturn\u001b[0m \u001b[0mresult\u001b[0m\u001b[0;34m\u001b[0m\u001b[0;34m\u001b[0m\u001b[0m\n",
      "\u001b[0;31mTypeError\u001b[0m: only non-negative integers, strings or igraph.Vertex objects can be converted to vertex IDs"
     ]
    }
   ],
   "source": [
    "g = ig.Graph.Bipartite(\n",
    "    [0, 0, 0, 0, 0, 1, 1, 1, 1],\n",
    "    [(47.0, 378.0),\n",
    " (66.0, 233.0),\n",
    " (60.0, 344.0),\n",
    " (45.0, 279.0),\n",
    " (41.0, 282.0),\n",
    " (43.0, 387.0),\n",
    " (60.0, 284.0),\n",
    " (64.0, 334.0),\n",
    " (48.0, 375.0),\n",
    " (43.0, 385.0),\n",
    " (64.0, 336.0),\n",
    " (49.0, 230.0),\n",
    " (44.0, 387.0),\n",
    " (65.0, 338.0),\n",
    " (51.0, 375.0),\n",
    " (49.0, 239.0),\n",
    " (56.0, 393.0),\n",
    " (56.0, 385.0),\n",
    " (48.0, 370.0),\n",
    " (53.0, 381.0),\n",
    " (53.0, 233.0),\n",
    " (54.0, 235.0),\n",
    " (41.0, 281.0),\n",
    " (44.0, 327.0),\n",
    " (51.0, 376.0),\n",
    " (42.0, 279.0),\n",
    " (46.0, 235.0),\n",
    " (40.0, 376.0),\n",
    " (51.0, 370.0),\n",
    " (50.0, 273.0),\n",
    " (49.0, 290.0),\n",
    " (42.0, 336.0),\n",
    " (59.0, 282.0),\n",
    " (46.0, 237.0),\n",
    " (68.0, 225.0),\n",
    " (58.0, 296.0),\n",
    " (55.0, 392.0),\n",
    " (65.0, 319.0),\n",
    " (65.0, 327.0),\n",
    " (50.0, 274.0),\n",
    " (57.0, 383.0),\n",
    " (68.0, 221.0),\n",
    " (65.0, 323.0),\n",
    " (50.0, 275.0),\n",
    " (54.0, 296.0),\n",
    " (40.0, 383.0),\n",
    " (42.0, 284.0)])\n",
    "matching = g.maximum_bipartite_matching()\n",
    "\n",
    "matching_size = 0\n",
    "print(\"Matching is:\")\n",
    "for i in range(5):\n",
    "    print(f\"{i} - {matching.match_of(i)}\")\n",
    "    if matching.is_matched(i):\n",
    "        matching_size += 1\n",
    "print(\"Size of maximum matching is:\", matching_size)"
   ]
  },
  {
   "cell_type": "code",
   "execution_count": null,
   "metadata": {},
   "outputs": [],
   "source": []
  }
 ],
 "metadata": {
  "kernelspec": {
   "display_name": "Python 3",
   "language": "python",
   "name": "python3"
  },
  "language_info": {
   "codemirror_mode": {
    "name": "ipython",
    "version": 3
   },
   "file_extension": ".py",
   "mimetype": "text/x-python",
   "name": "python",
   "nbconvert_exporter": "python",
   "pygments_lexer": "ipython3",
   "version": "3.7.4"
  }
 },
 "nbformat": 4,
 "nbformat_minor": 4
}
