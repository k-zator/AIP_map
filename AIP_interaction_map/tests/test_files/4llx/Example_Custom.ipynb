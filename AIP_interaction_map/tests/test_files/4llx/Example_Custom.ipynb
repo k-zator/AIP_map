{
 "cells": [
  {
   "cell_type": "code",
   "execution_count": 1,
   "metadata": {},
   "outputs": [],
   "source": [
    "from simtk import unit\n",
    "import simtk.openmm as mm\n",
    "from simtk.openmm import app\n"
   ]
  },
  {
   "cell_type": "code",
   "execution_count": 16,
   "metadata": {},
   "outputs": [
    {
     "name": "stdout",
     "output_type": "stream",
     "text": [
      "10.0\n",
      "C\n"
     ]
    }
   ],
   "source": [
    "ligand = app.PDBFile(\"ligand.pdb\")\n",
    "binding_site = app.PDBFile(\"binding_site.pdb\")\n",
    "modeller = app.Modeller(ligand.topology, ligand.getPositions(frame=0))\n",
    "modeller.add(binding_site.topology, binding_site.positions)\n",
    "forcefield = app.ForceField(\"ligand_vs_ff.xml\",\"custom_vs_ff.xml\", \"../../../data/protein_vs_ssip.xml\")\n",
    "modeller.addExtraParticles(forcefield, ignoreExternalBonds=True)\n",
    "system = forcefield.createSystem(modeller.topology, ignoreExternalBonds=True)\n",
    "print(system.getForce(0).getGlobalParameterDefaultValue(0))\n",
    "print(system.getForce(0).getGlobalParameterName(0))"
   ]
  },
  {
   "cell_type": "code",
   "execution_count": null,
   "metadata": {},
   "outputs": [],
   "source": []
  }
 ],
 "metadata": {
  "kernelspec": {
   "display_name": "Python (openmm)",
   "language": "python",
   "name": "openmm"
  },
  "language_info": {
   "codemirror_mode": {
    "name": "ipython",
    "version": 3
   },
   "file_extension": ".py",
   "mimetype": "text/x-python",
   "name": "python",
   "nbconvert_exporter": "python",
   "pygments_lexer": "ipython3",
   "version": "3.7.4"
  }
 },
 "nbformat": 4,
 "nbformat_minor": 4
}
