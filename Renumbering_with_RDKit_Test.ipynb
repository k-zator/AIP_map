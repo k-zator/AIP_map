{
 "cells": [
  {
   "cell_type": "code",
   "execution_count": 33,
   "metadata": {},
   "outputs": [],
   "source": [
    "from rdkit import Chem\n",
    "from rdkit.Chem import Draw\n",
    "r = \"8\"\n",
    "w = \"2\"\n",
    "ref = Chem.MolFromPDBFile(f\"/home/kate/workspace/CrystHG/AIP/comp{r}/comp{r}.pdb\", removeHs=False)\n",
    "path = f\"/home/kate/workspace/CrystHG/AIP/comp{w}\"\n",
    "wrong = f\"{path}/comp{w}.pdb\""
   ]
  },
  {
   "cell_type": "code",
   "execution_count": 34,
   "metadata": {},
   "outputs": [],
   "source": [
    "target = Chem.MolFromPDBFile(wrong, removeHs=False)\n",
    "atoms = target.GetSubstructMatches(ref) #: List[int]\n",
    "new = Chem.RenumberAtoms(target, atoms[0])\n",
    "Chem.MolToPDBFile(new, f\"{path}/correct.pdb\")\n",
    "\n",
    "img = Draw.MolToImage(ref)"
   ]
  },
  {
   "cell_type": "code",
   "execution_count": 6,
   "metadata": {},
   "outputs": [
    {
     "data": {
      "image/png": "[encoded data removed]",
      "text/plain": [
       "<rdkit.Chem.rdchem.Mol at 0x7fb8d5afb5d0>"
      ]
     },
     "execution_count": 6,
     "metadata": {},
     "output_type": "execute_result"
    }
   ],
   "source": [
    "Chem.RenumberAtoms(target, atoms[0])"
   ]
  },
  {
   "cell_type": "code",
   "execution_count": null,
   "metadata": {},
   "outputs": [],
   "source": []
  }
 ],
 "metadata": {
  "kernelspec": {
   "display_name": "Python 3",
   "language": "python",
   "name": "python3"
  },
  "language_info": {
   "codemirror_mode": {
    "name": "ipython",
    "version": 3
   },
   "file_extension": ".py",
   "mimetype": "text/x-python",
   "name": "python",
   "nbconvert_exporter": "python",
   "pygments_lexer": "ipython3",
   "version": "3.7.4"
  }
 },
 "nbformat": 4,
 "nbformat_minor": 4
}
